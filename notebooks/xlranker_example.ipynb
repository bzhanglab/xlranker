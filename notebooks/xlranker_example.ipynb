{
 "cells": [
  {
   "cell_type": "markdown",
   "id": "c8a3292e",
   "metadata": {},
   "source": [
    "# XLRanker Jupyter Notebook\n",
    "\n",
    "This Jupyter Notebook provides an example of how to start from a peptide network to the final protein network that can be used for functional analysis.\n",
    "\n",
    "## Example Dataset\n",
    "\n",
    "The example data used in this notebook is from SOURCE. The notebook handles downloading the data to this instance.\n",
    "\n",
    "## Getting started\n",
    "\n",
    "If `xlranker` is not already installed, run the below command"
   ]
  },
  {
   "cell_type": "code",
   "execution_count": null,
   "id": "1ac8d717",
   "metadata": {
    "vscode": {
     "languageId": "plaintext"
    }
   },
   "outputs": [],
   "source": [
    "!pip install xlranker # install xlranker"
   ]
  }
 ],
 "metadata": {
  "language_info": {
   "name": "python"
  }
 },
 "nbformat": 4,
 "nbformat_minor": 5
}
